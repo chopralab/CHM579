{
 "cells": [
  {
   "cell_type": "markdown",
   "metadata": {
    "collapsed": true
   },
   "source": [
    "# Assignment 1 - Molecular Structure Visualization, Normal Modes, and RDKit Basics"
   ]
  },
  {
   "attachments": {},
   "cell_type": "markdown",
   "metadata": {},
   "source": [
    "### Due on Monday, 3 February 2025 at 9:29 AM"
   ]
  },
  {
   "cell_type": "markdown",
   "metadata": {},
   "source": [
    "### Name: [Your Name Here]"
   ]
  },
  {
   "cell_type": "markdown",
   "metadata": {},
   "source": [
    "The objective of this assignment is three-fold: first, to become familiar with protein structures and the Protein Data Bank, second, to try some of the programs used to display protein structures, and third to learn how these programs can be used for research and understanding."
   ]
  },
  {
   "cell_type": "markdown",
   "metadata": {},
   "source": [
    "## The Protein Data Bank"
   ]
  },
  {
   "cell_type": "markdown",
   "metadata": {},
   "source": [
    "The [Protein Data Bank](https://www.rcsb.org/), or PDB, is the best place to obtain 3-Dimensional structures of proteins, nucleic acids, peptides and other macromolecules. From their site, you can locate proteins by keyword searching or by entering the accession number for the structure file, like 1mba. Most of the structures in the PDB were determined by [X-ray crystallography](https://en.wikipedia.org/wiki/X-ray_crystallography) or [NMR spectroscopy](https://en.wikipedia.org/wiki/Nuclear_magnetic_resonance_spectroscopy) with a growing trend of using [Cryo-EM](https://en.wikipedia.org/wiki/Cryogenic_electron_microscopy). Details on the molecules in the structure file, how the structures were determined, pertinent research articles, etc. can be found on the web site but also in the pdb file itself.\n",
    "\n",
    "PDB files are just formatted text files, so you can open them in a text editor or even Word and read them. There is a wealth of information there! The molecular viewing programs use the ATOM records in the file, which contain residue name, residue number, atom name and atom number - all of which are important when selecting molecules or parts of them to visualize. Often, the structure files include other molecules besides the protein, such as water molecules, nucleic acid and bound ligands."
   ]
  },
  {
   "cell_type": "markdown",
   "metadata": {},
   "source": [
    "## Molecular Graphics Programs "
   ]
  },
  {
   "cell_type": "markdown",
   "metadata": {},
   "source": [
    "There are quite a few programs used to view molecules.. Each has its advantages and disadvantages. "
   ]
  },
  {
   "cell_type": "markdown",
   "metadata": {},
   "source": [
    "### [PyMol](https://pymol.org/2/) "
   ]
  },
  {
   "cell_type": "markdown",
   "metadata": {},
   "source": [
    "PyMol is a relatively new and very promising molecule viewing program developed by [Schodinger](https://www.schrodinger.com/). It is available for all Unix/Linux platforms, Windows and Mac OSX. It uses a combination of menus, a powerful selection sidebar, ( to demonstrated in the lab), and a rich command line interface. It has a logging feature to remember commands as they are executed, allows for scripting and has a nice movie feature.\n",
    "\n",
    "PyMol is free to download and build as it is open source software. However, Purdue University provides all students with a site license which allows for simple installation and execution. You can download it here: [Pymol version 2](https://pymol.org/2/). You must also install the [site license](https://pymol.org/dsc/index.php?ip=license/) while on campus as the link will not work otherwise."
   ]
  },
  {
   "cell_type": "markdown",
   "metadata": {},
   "source": [
    "### [Visual Molecular Dynamics (VMD)](http://www.ks.uiuc.edu/Research/vmd/) "
   ]
  },
  {
   "cell_type": "markdown",
   "metadata": {},
   "source": [
    "VMD is new and very promising molecule viewing program developed at University of Illinois at Urbana-Champaign. It is available for all Unix/Linux platforms, Windows and Mac OSX. It uses a combination of three windows: a terminal window, a viewing window and a main window. The terminal window is useful in that error messages and command output. The view window is where your molecules will appear, and the main window is where most of the controls for VMD are found. We strongly encourage you to go through the VMD tutorial also which can be found on the [VMD website](http://www.ks.uiuc.edu/Research/vmd/current/docs.html#tutorials), if you need more information to create this assignment. VMD is a very important tool which would be helpful for further assignments as well.\n",
    "\n",
    "VMD is under rapid development, so get the latest program from the [VMD Web Site](https://www.ks.uiuc.edu/Development/Download/download.cgi?PackageName=VMD)."
   ]
  },
  {
   "cell_type": "markdown",
   "metadata": {},
   "source": [
    "## Part 1"
   ]
  },
  {
   "cell_type": "markdown",
   "metadata": {},
   "source": [
    "### Task 1"
   ]
  },
  {
   "cell_type": "markdown",
   "metadata": {},
   "source": [
    "Learn to download structure files. Some structure files are often provided with the viewer programs for demonstration purposes, but you should download the structures of different proteins from the [PDB](https://www.rcsb.org/)."
   ]
  },
  {
   "cell_type": "markdown",
   "metadata": {},
   "source": [
    "### Task 2"
   ]
  },
  {
   "cell_type": "markdown",
   "metadata": {},
   "source": [
    "Learn to use Two Different Molecule Viewing Programs (Pymol and VMD).\n",
    "- Learn to rotate and zoom in on different parts of the structure.\n",
    "- Play with different structure representations.\n",
    "- Learn how to select different molecules, protein chains, residues and atoms.\n",
    "- Learn how to output the structures in different image formats."
   ]
  },
  {
   "cell_type": "markdown",
   "metadata": {},
   "source": [
    "### Question 1 "
   ]
  },
  {
   "cell_type": "markdown",
   "metadata": {},
   "source": [
    "Choose Two Protein Structures (of Two Different Proteins).\n",
    "- These should be structures that you download from the PDB, not ones that were supplied with the graphics programs.\n",
    "- If you don't have the slightest idea what structures to choose, you can try the Molecule of the Month..\n",
    "- There are links to articles related to each structure in the database, and there is also important information within the header section of the pdb file itself. Learn about the proteins and the other molecules in the structure files.\n",
    "\n",
    "List the names and the PDB ID's of the proteins in your notebook. Describe the biological function of the proteins you chose. Remember that there is a great deal of information in the PDB header, including references to papers by the groups that did the structure determination."
   ]
  },
  {
   "cell_type": "markdown",
   "metadata": {},
   "source": [
    "### Answer"
   ]
  },
  {
   "cell_type": "markdown",
   "metadata": {},
   "source": []
  },
  {
   "cell_type": "markdown",
   "metadata": {},
   "source": [
    "### Question 2 "
   ]
  },
  {
   "cell_type": "markdown",
   "metadata": {},
   "source": [
    "Use the programs to generate illustrations of interesting aspects of the structure of these proteins.\n",
    "\n",
    "- You can export images from the programs themselves or capture images straight of the screen, as discussed the lecture. Only submit compressed image file formats, like jpeg or gif. Tiff, pict and other raw formats generate massive files. You should include images generated by both viewing programs in your submission.\n",
    "- Each image should illustrate some property of the protein's structure or function. We do not just want pretty pictures - the biology needs to be there too! Some ideas:\n",
    "    - Show the architecture of the protein, secondary structure, packing, surface, fold, etc.\n",
    "    - Show some examples of interactions that stabilize the structure.\n",
    "    - If your pdb file has other molecules besides the protein in it, show them and how they interact with the protein. What is the biological relevance of their presence?\n",
    "    - Is your protein oligomeric or part of a complex? How can that be clearly shown?\n",
    "    - Zoom in to clearly show interesting details.\n",
    "    - Show how the structure might affect the dynamics of the molecule.\n",
    "- Use one or more images to show how the structure of the protein relates to its function.\n",
    "\n",
    "Include a short, clear description of the biological idea conveyed in each image and answer/explanations to all questions asked in the assignment.\n",
    "\n",
    "You will need 2 images for each software (PyMol and VMD) for a total of 4 images with the corresponding biological idea descriptions. Try to capture different biological features in the 4 images if you can."
   ]
  },
  {
   "cell_type": "markdown",
   "metadata": {},
   "source": [
    "### Answer"
   ]
  },
  {
   "cell_type": "markdown",
   "metadata": {},
   "source": []
  },
  {
   "cell_type": "markdown",
   "metadata": {},
   "source": [
    "### Question 3 "
   ]
  },
  {
   "cell_type": "markdown",
   "metadata": {
    "collapsed": true
   },
   "source": [
    "Use the program of your choice to make a simulation movie.\n",
    "\n",
    "- Many publications and conference speakers now include videoes of their simulations as part of the submissions, thus it is important to learn how to make these publications to remain competitive.\n",
    "- You must submit a video made in either PyMOL or VMD. The initial state of the system and the trajectory used to create the simulation will be provided to you, all you need to do is make the movie."
   ]
  },
  {
   "cell_type": "markdown",
   "metadata": {},
   "source": [
    "### Answer"
   ]
  },
  {
   "cell_type": "markdown",
   "metadata": {},
   "source": []
  },
  {
   "cell_type": "markdown",
   "metadata": {
    "collapsed": true
   },
   "source": [
    "## Normal Mode Analysis"
   ]
  },
  {
   "cell_type": "markdown",
   "metadata": {},
   "source": [
    "The [Karsten Suhre Lab](https://qatar-weill.cornell.edu/research/research-faculty/suhre-lab) developed the server [elNemo](https://www.sciences.univ-nantes.fr/elnemo/), which can be used to calculate normal modes.\n",
    "\n",
    "1. Visit the elNemo Server and submit one conformation of the same protein you used above. Calculate a few of the lowest normal modes, but remember that the first 6 normal modes are rotational and translational. (Hint: normal mode analysis of \"open\" conformations gives better results than the analysis of a \"closed\" conformation).\n",
    "\n",
    "2. The output of the server will be a number of PDBs along with animation files, each representing the motion due to one normal mode. Upload the files to your favorite molecular viewer and observe the mode-induced movements."
   ]
  },
  {
   "cell_type": "markdown",
   "metadata": {},
   "source": [
    "## Part 2 "
   ]
  },
  {
   "cell_type": "markdown",
   "metadata": {},
   "source": [
    "### Question 4 "
   ]
  },
  {
   "cell_type": "markdown",
   "metadata": {},
   "source": [
    "Analyze the Normal Modes of one of the proteins that you used in part 1 of the assignment\n",
    "\n",
    "- Describe the motion induced by the three lowest normal modes (\"breathing\", twisting, hinging...) and include some stills. \n",
    "- Is there a low frequency normal mode that is similar to the motion seen in the morph server? \n",
    "- Can the biologically relevant motion be described by a small number of low frequency normal modes?"
   ]
  },
  {
   "cell_type": "markdown",
   "metadata": {},
   "source": [
    "### Answer"
   ]
  },
  {
   "cell_type": "markdown",
   "metadata": {},
   "source": []
  },
  {
   "cell_type": "markdown",
   "metadata": {},
   "source": [
    "### Question 5 "
   ]
  },
  {
   "cell_type": "markdown",
   "metadata": {},
   "source": [
    "Describe why the motion of your protein is BIOLOGICALLY interesting (one or two paragraphs) and any information that you think the morph, the normal mode analysis, or data generated on the server webpages may have revealed."
   ]
  },
  {
   "cell_type": "markdown",
   "metadata": {},
   "source": [
    "### Answer"
   ]
  },
  {
   "cell_type": "markdown",
   "metadata": {},
   "source": []
  },
  {
   "cell_type": "markdown",
   "metadata": {},
   "source": [
    "## RDKit "
   ]
  },
  {
   "cell_type": "markdown",
   "metadata": {},
   "source": [
    "RDKit is a powerful cheminformatics package that integrates well with python. It has a wide range of functionality including substructure searching, chemical descriptor calculation, and molecular fingerprinting. In this part of the assignment, we will get to explore some of these features. \n",
    "\n",
    "For previous python code segments, we did not need any external packages because what we used built-in packages. However, RDKit is not a built-in package so we must install it in a package manager in order to use it in a Jupyter Notebook. After logging on to scholar we run the following lines of code to install a conda enviroment with RDKit.\n",
    "\n",
    "```\n",
    "module load anaconda\n",
    "conda create -c rdkit -n chm579 rdkit\n",
    "```\n",
    "\n",
    "Follow the on screen prompting to finish installing the RDKit enviroment. After installing the anaconda enviroment we need to activate it and install the Jupyter Notebook using`pip`.\n",
    "\n",
    "```\n",
    "conda activate chm579\n",
    "pip install jupyterhub jupyterlab jupyter jsonschema jupyterlab-server\n",
    "pip install matplotlib\n",
    "```\n",
    "\n",
    "Finaly we can open the Jupyter Notebook with the conda enviroment packages availible to us by typing the below line of code.\n",
    "\n",
    "```\n",
    "jupyter notebook\n",
    "```\n",
    "\n",
    "You can also access the Juypter notebook by downloading the Jupyter Notebook extension for VS code\n",
    "\n",
    "The final step is to switch the kernal from Python 3.8 to Python 3. While these are likely the same versions on Python, the Python 3 kernel should be in the anaconda enviroment with RDKit, thus giving you access to the package. You can do this by going to the toolbar at the top of the page and selecting the `Kernel` option, going down to `Change kernel` and selecting the `Python 3` option. Your current kernel can be seen on the top right hand area of the screen and it should show `Python 3` Where it once had `Python 3.8 (Anaconda ...)`. Now you are ready to use RDKit!"
   ]
  },
  {
   "cell_type": "markdown",
   "metadata": {},
   "source": [
    "RDKit has a object called a Molecule (denoted Mol) that is used to store information about a chemical compound. First, we must tell the program which molecule we would like to access. One way to do this is to get the molecule from a [SMILES string](https://daylight.com/dayhtml/doc/theory/theory.smiles.html). You can use [this](https://www.cheminfo.org/flavor/malaria/Utilities/SMILES_generator___checker/index.html) site to convery a molecule to a SMILES string. Below is an example of some of the features of RDKit on Propanol."
   ]
  },
  {
   "cell_type": "markdown",
   "metadata": {},
   "source": [
    "We read in the SMILES string of the molecule using `Chem.MolFromSmiles()` with an argument of `OCCC` which is the SMILES string that corresponds to propanol. Run the below code segment to load in the molecule from a SMILES string."
   ]
  },
  {
   "cell_type": "code",
   "execution_count": null,
   "metadata": {},
   "outputs": [
    {
     "ename": "",
     "evalue": "",
     "output_type": "error",
     "traceback": [
      "\u001b[1;31mRunning cells with 'my-rdkit-env' requires ipykernel package.\n",
      "\u001b[1;31mRun the following command to install 'ipykernel' into the Python environment. \n",
      "\u001b[1;31mCommand: 'conda install -n my-rdkit-env ipykernel --update-deps --force-reinstall'"
     ]
    }
   ],
   "source": [
    "# Import a list of Subpackages from RDKit\n",
    "from rdkit import Chem\n",
    "from rdkit.Chem import Descriptors\n",
    "from rdkit.Chem import Crippen\n",
    "from rdkit.Chem.Draw import rdMolDraw2D\n",
    "\n",
    "# Define and show Propanol\n",
    "m = Chem.MolFromSmiles('OCCC')\n",
    "m"
   ]
  },
  {
   "cell_type": "markdown",
   "metadata": {},
   "source": [
    "We can get some information about individual atoms and bonds of the molecule."
   ]
  },
  {
   "cell_type": "code",
   "execution_count": null,
   "metadata": {},
   "outputs": [],
   "source": [
    "# Print out Properties of Individual Atoms\n",
    "print(\"Atom 0 Symbol: \" + m.GetAtomWithIdx(0).GetSymbol())\n",
    "print(\"Atom 0 is in Ring: \" + str(m.GetAtomWithIdx(0).IsInRing()))\n",
    "print(\"Bond between atom 0 and atom 1: \" + str(m.GetBondBetweenAtoms(0,1).GetBondType()))"
   ]
  },
  {
   "cell_type": "markdown",
   "metadata": {},
   "source": [
    "We can get information about the molecule as a whole including calculation of chemical properties."
   ]
  },
  {
   "cell_type": "code",
   "execution_count": null,
   "metadata": {},
   "outputs": [],
   "source": [
    "# Print out Properties of the Molecule\n",
    "print(\"Number of Atoms: \" + str(m.GetNumAtoms()))\n",
    "print(\"Molecular Weight: \" + str(Descriptors.ExactMolWt(m)))\n",
    "print(\"Number Valance Electrons: \" + str(Descriptors.NumValenceElectrons(m)))\n",
    "print(\"Molecular LogP: \" + str(Descriptors.MolLogP(m)))\n",
    "print(\"Topological Polar Surface Area: \" + str(Descriptors.TPSA(m)))"
   ]
  },
  {
   "cell_type": "markdown",
   "metadata": {},
   "source": [
    "We can highlight atoms and bonds in the molecule to showcase certian structural attributes. We need to use `IPython.display` to show the image as the RDKit drawing feature is not supported on the front end of Jupyter Notebook (There may be times where you need to do this again in the future as well)."
   ]
  },
  {
   "cell_type": "code",
   "execution_count": null,
   "metadata": {},
   "outputs": [],
   "source": [
    "# Import Image Display Software for Jupyter Python Code\n",
    "from IPython.display import Image\n",
    "\n",
    "# Load in a Molecule\n",
    "m = Chem.MolFromSmiles(\"Oc1ccccc1O\")\n",
    "# Set up an Image Canvas\n",
    "d = rdMolDraw2D.MolDraw2DCairo(500, 500)\n",
    "# Draw the Molecule to the Canvas with Specific Atoms and Bonds highlighted\n",
    "rdMolDraw2D.PrepareAndDrawMolecule(d, m, highlightAtoms=[0,1,6,7], highlightBonds=[0,6,7])\n",
    "d.DrawMolecule(m)\n",
    "d.FinishDrawing()\n",
    "# Write out the Image to a File and then Load in the File to the Notebook\n",
    "d.WriteDrawingText('highlight_mol.png')  \n",
    "Image(filename='highlight_mol.png') "
   ]
  },
  {
   "cell_type": "markdown",
   "metadata": {},
   "source": [
    "Here is an additional code example which may help with Question 8"
   ]
  },
  {
   "cell_type": "code",
   "execution_count": null,
   "metadata": {},
   "outputs": [],
   "source": [
    "# Import Image Display Software for Jupyter Python Code\n",
    "from IPython.display import Image\n",
    "# Define the colors array (cell 0 is green, cell 1 is red)\n",
    "colours = [(0.0,255.0,0.0), (255.0,0.0,0.0)]\n",
    "# Make a dictionary for the atom colors and define the hilighted atoms and which atoms are what colors \n",
    "atom_cols = {}\n",
    "h_atoms = [0,1,6,7]\n",
    "green = [0,1]\n",
    "red = [6,7]\n",
    "# Assign the green atoms to the green color\n",
    "for elem in green:\n",
    "    atom_cols[elem] = colours[0]\n",
    "    \n",
    "# Assign the red atoms to the red color\n",
    "for elem in red:\n",
    "    atom_cols[elem] = colours[1]\n",
    "        \n",
    "# Load in a Molecule\n",
    "m = Chem.MolFromSmiles(\"Oc1ccccc1O\")\n",
    "# Set up an Image Canvas\n",
    "d = rdMolDraw2D.MolDraw2DCairo(500, 500)\n",
    "# Draw the Molecule to the Canvas with Specific Atoms and Bonds highlighted\n",
    "rdMolDraw2D.PrepareAndDrawMolecule(d, m, highlightAtoms=h_atoms, highlightAtomColors=atom_cols)\n",
    "d.DrawMolecule(m)\n",
    "d.FinishDrawing()\n",
    "# Write out the Image to a File and then Load in the File to the Notebook\n",
    "d.WriteDrawingText('highlight_mol.png')  \n",
    "Image(filename='highlight_mol.png') "
   ]
  },
  {
   "cell_type": "markdown",
   "metadata": {},
   "source": [
    "We can compare molecules and try to identify similar regions in certian molecues. Here are two benzodiazepines with similar, yet non-identical structures. What regions do you think will be similar in the below molecular structures."
   ]
  },
  {
   "cell_type": "code",
   "execution_count": null,
   "metadata": {},
   "outputs": [],
   "source": [
    "# Load in Both of the Molecules\n",
    "m1 = Chem.MolFromSmiles('C1C(=O)NC2=C(C=C(C=C2)[N+](=O)[O-])C(=N1)C3=CC=CC=C3Cl')\n",
    "m2 = Chem.MolFromSmiles('C1=CC=C(C=C1)C2=NC(C(=O)NC3=C2C=C(C=C3)Cl)O')\n",
    "\n",
    "# Allow for more than one output for a notebook cell (Nothing to do with RDKit)\n",
    "from IPython.core.interactiveshell import InteractiveShell\n",
    "InteractiveShell.ast_node_interactivity = \"all\"\n",
    "\n",
    "# Print both molecules\n",
    "m1\n",
    "m2"
   ]
  },
  {
   "cell_type": "markdown",
   "metadata": {},
   "source": [
    "Now run the code block below to see the regions of similarity between the two molecules. The green represent similar regions whereas the red represents regions that are different. The similarity is radius-based from the central atom, so the plot will look like a topography map. The darker green regions with higher topology have a higher degree of similarity than the lighter green regions with lower topology. The same principal applies for the red regions of disimilairty. "
   ]
  },
  {
   "cell_type": "code",
   "execution_count": null,
   "metadata": {},
   "outputs": [],
   "source": [
    "from rdkit.Chem import Draw\n",
    "from rdkit.Chem.Draw import SimilarityMaps\n",
    "import matplotlib\n",
    "\n",
    "fig, maxweight = SimilarityMaps.GetSimilarityMapForFingerprint(m2, m1, SimilarityMaps.GetMorganFingerprint)"
   ]
  },
  {
   "cell_type": "markdown",
   "metadata": {},
   "source": [
    "We can also identify regions of interest for a specific descriptor. For example we can visualize contribution to molecular LogP using the following code."
   ]
  },
  {
   "cell_type": "code",
   "execution_count": null,
   "metadata": {},
   "outputs": [],
   "source": [
    "from rdkit.Chem import rdMolDescriptors\n",
    "contribs = rdMolDescriptors._CalcCrippenContribs(m1)\n",
    "fig = SimilarityMaps.GetSimilarityMapFromWeights(m1,[x for x,y in contribs], colorMap='jet', contourLines=10)"
   ]
  },
  {
   "cell_type": "markdown",
   "metadata": {},
   "source": [
    "We can also visual partial charges of the molecule from the individual atoms (Think how this relates to TPSA)."
   ]
  },
  {
   "cell_type": "code",
   "execution_count": null,
   "metadata": {},
   "outputs": [],
   "source": [
    "from rdkit.Chem import AllChem\n",
    "AllChem.ComputeGasteigerCharges(m1)\n",
    "contribs = [m1.GetAtomWithIdx(i).GetDoubleProp('_GasteigerCharge') for i in range(m1.GetNumAtoms())]\n",
    "fig = SimilarityMaps.GetSimilarityMapFromWeights(m1, contribs, colorMap='jet', contourLines=10)"
   ]
  },
  {
   "cell_type": "markdown",
   "metadata": {},
   "source": [
    "## Part 3"
   ]
  },
  {
   "cell_type": "markdown",
   "metadata": {},
   "source": [
    "### Question 6\n",
    "\n",
    "Use RDKit to import two of your favriote drugs of the same drug class. If you dont have a favriote drug or drug class you can use [propionic acid derivatives NSAID's](https://en.wikipedia.org/wiki/Nonsteroidal_anti-inflammatory_drug#Propionic_acid_derivatives). You can get the SMILES string from the [PubChem Database](https://pubchem.ncbi.nlm.nih.gov/) or you can draw the structure in the SMILES translator described above. "
   ]
  },
  {
   "cell_type": "markdown",
   "metadata": {},
   "source": [
    "### Answer"
   ]
  },
  {
   "cell_type": "code",
   "execution_count": null,
   "metadata": {},
   "outputs": [],
   "source": [
    "# I recomend readding all of the previous import statements above as if you exit out of the notebook you would need\n",
    "# to rerun all of the previous code block to have access to the import statements again\n",
    "\n",
    "# Add import statements here ...\n",
    "\n",
    "# Allow for more than one output for a notebook cell (You may need to rNothing to do with RDKit)\n",
    "from IPython.core.interactiveshell import InteractiveShell\n",
    "InteractiveShell.ast_node_interactivity = \"all\"\n",
    "\n",
    "# Your code goes here ..."
   ]
  },
  {
   "cell_type": "markdown",
   "metadata": {},
   "source": [
    "### Question 7\n",
    "\n"
   ]
  },
  {
   "cell_type": "markdown",
   "metadata": {},
   "source": [
    "Print out the octanol-water partition coefficient (LogP) and topological polar surface area (TPSA) for both of your drugs. Check these values againts published values if possible (at least the LogP should be on PubChem). \n",
    "\n",
    "A higher LogP value indicates a molecule that is more attracted to the organic phase (non-polar). A higher TPSA value indicates a molecule with more of its surface area coming from polar atoms. Write a short explanation on if these LogP and TPSA values make sense relitave to the structures of the two drugs. What individual atoms do you think are making the most contribution tot he LogP of the molecule? What individual atoms or groups do you think are making the most contribution to the polarity and non-polarity of the molecule?"
   ]
  },
  {
   "cell_type": "markdown",
   "metadata": {},
   "source": [
    "### Answer"
   ]
  },
  {
   "cell_type": "code",
   "execution_count": null,
   "metadata": {},
   "outputs": [],
   "source": [
    "# Your code goes here ..."
   ]
  },
  {
   "cell_type": "markdown",
   "metadata": {},
   "source": []
  },
  {
   "cell_type": "markdown",
   "metadata": {},
   "source": [
    "### Question 8\n",
    "\n",
    "Get the similarity plot between the two molecule (it dosent matter which molecule you use as the reference, just keep it consistent througout the remainder of the assignment). Recreate this similarity plot by highlighting the similar atoms (no need to highlight the bonds) in green and the different atoms in red. To learn how to highlight in different colors open the [RDKit guide](https://www.rdkit.org/docs/GettingStartedInPython.html) and control+f (or whatever find is on Mac) \"colours\" (the british spelling).  "
   ]
  },
  {
   "cell_type": "markdown",
   "metadata": {},
   "source": [
    "### Answer"
   ]
  },
  {
   "cell_type": "code",
   "execution_count": null,
   "metadata": {},
   "outputs": [],
   "source": [
    "# Add the code for the similarity map here ..."
   ]
  },
  {
   "cell_type": "code",
   "execution_count": null,
   "metadata": {},
   "outputs": [],
   "source": [
    "# Add the code for the highlighting here ..."
   ]
  },
  {
   "cell_type": "markdown",
   "metadata": {},
   "source": [
    "### Question 9\n",
    "\n",
    "Get the plot of LogP contributions for one of the two drugs you have chosen. Take note of the contributions and compare this list of atoms with the your answer to Question 7. Do these LogP individual contributions make sense? Is there anything that you missed?"
   ]
  },
  {
   "cell_type": "markdown",
   "metadata": {},
   "source": [
    "### Answer"
   ]
  },
  {
   "cell_type": "code",
   "execution_count": null,
   "metadata": {},
   "outputs": [],
   "source": [
    "# Add the code for the plot here ... "
   ]
  },
  {
   "cell_type": "markdown",
   "metadata": {},
   "source": []
  },
  {
   "cell_type": "markdown",
   "metadata": {},
   "source": [
    "### Question 10\n",
    "\n",
    "Get the plot of partial charges of the molecule. How does this plot relate to the TPSA of the molecule? Do the partial charges  that you see in the plot match up with your answer for Question 7? Do these partial charges make sense? Is there anything that you missed?"
   ]
  },
  {
   "cell_type": "markdown",
   "metadata": {},
   "source": [
    "### Answer"
   ]
  },
  {
   "cell_type": "code",
   "execution_count": null,
   "metadata": {},
   "outputs": [],
   "source": [
    "# Add the code for your plot here ..."
   ]
  },
  {
   "cell_type": "markdown",
   "metadata": {},
   "source": []
  }
 ],
 "metadata": {
  "kernelspec": {
   "display_name": "my-rdkit-env",
   "language": "python",
   "name": "python3"
  },
  "language_info": {
   "codemirror_mode": {
    "name": "ipython",
    "version": 3
   },
   "file_extension": ".py",
   "mimetype": "text/x-python",
   "name": "python",
   "nbconvert_exporter": "python",
   "pygments_lexer": "ipython3",
   "version": "3.6.10 |Anaconda, Inc.| (default, May  7 2020, 19:46:08) [MSC v.1916 64 bit (AMD64)]"
  },
  "vscode": {
   "interpreter": {
    "hash": "510677064e2d81f67d172068a3dfe274ae5e24649d48f93b5121550addbc2df6"
   }
  }
 },
 "nbformat": 4,
 "nbformat_minor": 2
}
