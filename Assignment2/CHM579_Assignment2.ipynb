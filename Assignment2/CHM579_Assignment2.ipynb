{
 "cells": [
  {
   "attachments": {},
   "cell_type": "markdown",
   "id": "instrumental-anchor",
   "metadata": {},
   "source": [
    "# Assignment 2 - Monte Carlo Simulation of Simple Homogenous Systems\n",
    "\n",
    "### Due M 2-17-25 at 9:29 am\n",
    "\n",
    "### Name: [Your Name Here]\n",
    "\n",
    "The objective of this assignment is to be able to run a simple program in the linux environment. These skills will form the basis of future assignments in the class. This assignment is divided into two parts, one for the creation of a basic Monte Carlo program and other for the Lennard-Jones equation of state. The first portion of the assignment will get you familiar with the linux environment and how FORTRAN programs are structured and compiled. The second part is a more realistic computational simulation and serves as a more in depth introduction to Monte Carlo."
   ]
  },
  {
   "cell_type": "markdown",
   "id": "institutional-treasure",
   "metadata": {},
   "source": [
    "## Basic Monte Carlo Program\n",
    "\n",
    "The Monte Carlo simulation that is being run in this assignment is written in FORTRAN. Previously in this course, you have used Python which is an interpreted language. This means that the code is run line by line by a Python interpreter directly from the Python file with the code. FORTRAN is a compiled language which means that the code in the FORTRAN file is converted into a binary executable file which is run by the machine directly. \n",
    "\n",
    "In order to complie a FORTRAN file, you can run the below command to compile the FORTRAN file `mc-001.f90` to the executable file `mc-001.out`\n",
    "\n",
    "`gfortran mc-001.f90 -o mc-001.out`\n",
    "\n",
    "You can then run the executable file with the following command.\n",
    "\n",
    "`./mc‐001.out`\n",
    "\n",
    "Note that if you have an issue when running a file where it tells you that permission is denied you can attempt to fix the issue with the following command:\n",
    "\n",
    "```\n",
    "chmod u+x [path_to_.out_file]\n",
    "```\n",
    "\n",
    "What this does is that it gives the user (you) executable permission on the file so that you are able to run it from the command line.\n",
    "\n",
    "In this assignment, all of the background code has been compiled for you. You will need to make some modifications to the final version of the code and then analyze the output. The kernel being used is Bash which you will need to install before starting the assignment. Run the following code to install the Bash kernel into your `assignment1` conda enviroment.\n",
    "\n",
    "```\n",
    "module load anaconda\n",
    "source activate assignment1\n",
    "pip install bash_kernel\n",
    "python -m bash_kernel.install\n",
    "jupyter notebook\n",
    "```\n",
    "\n",
    "In this part of the assignment, we will have 15 FOTRAN files with progressive code that builds upon the previousl file. For each step there will be the FORTRAN code, some comments on what code is being added, how the output should change, and a line of Bash code that will execute the correspond executable file. \n",
    "\n",
    "There will be an additional file called `mc-015_edit.f90` which is the file that you will edit. You can edit it in either\n",
    "\n",
    "**Before starting it is suggested that you switch over the the `Fortran_Code_Guide.ipynb` and run through notebook reading the comments, code, and output for each step.**"
   ]
  },
  {
   "cell_type": "markdown",
   "id": "healthy-found",
   "metadata": {},
   "source": [
    "### Part A - Random Numbers\n",
    "\n",
    "Run the program from step 15 twice and compare the results, geometries and energies. Are they any different?"
   ]
  },
  {
   "cell_type": "code",
   "execution_count": null,
   "id": "engaged-paradise",
   "metadata": {},
   "outputs": [],
   "source": [
    "./Fortran_Code/part1/Compiled_Files/mc-015.out"
   ]
  },
  {
   "cell_type": "code",
   "execution_count": null,
   "id": "fifteen-soccer",
   "metadata": {},
   "outputs": [],
   "source": [
    "./Fortran_Code/part1/Compiled_Files/mc-015.out"
   ]
  },
  {
   "cell_type": "markdown",
   "id": "neither-culture",
   "metadata": {},
   "source": [
    "You may wonder why it is so. The reason is in the way the random number generator is initialized, i.e., what is its seed number.\n",
    "\n",
    "Find the first call to `ran()` in the program. You see that there is no explicit initialization. It means that a default integer, which may be different between different compilers and different operating systems, is used as seed each time, and a sequence of random numbers is the same in all runs. In order to make the random number sequence really random, do the following trick: open up the `mc-015_edit.f90` file in VS Code (or any other editor you would like) and before the first time `ran()` is called, add the following lines:\n",
    "\n",
    "```\n",
    "seed1=2*int(secnds(0.0)) \n",
    "seed=7654321+seed1\n",
    "call srand(seed)\n",
    "```\n",
    "\n",
    "You will also need to define `seed1` and `seed` somewhere before this block of code. You can do this with the following line\n",
    "\n",
    "```\n",
    "integer :: seed1,seed\n",
    "```\n",
    "\n",
    "Here the current seconds (counted from midnight) are added to an integer which will result in different seed numbers unless you run the program too often.\n",
    "\n",
    "To make sure that this procedure works properly, compile the program and run it twice, saving and comparing both results."
   ]
  },
  {
   "cell_type": "code",
   "execution_count": null,
   "id": "announced-comedy",
   "metadata": {},
   "outputs": [],
   "source": [
    "gfortran Fortran_Code/part1/f90_Files/mc-015_edit.f90 -o Fortran_Code/part1/Compiled_Files/mc-015_edit.out"
   ]
  },
  {
   "cell_type": "code",
   "execution_count": null,
   "id": "private-version",
   "metadata": {},
   "outputs": [],
   "source": [
    "./Fortran_Code/part1/Compiled_Files/mc-015_edit.out"
   ]
  },
  {
   "cell_type": "code",
   "execution_count": null,
   "id": "generous-remedy",
   "metadata": {},
   "outputs": [],
   "source": [
    "./Fortran_Code/part1/Compiled_Files/mc-015_edit.out"
   ]
  },
  {
   "cell_type": "markdown",
   "id": "honest-albany",
   "metadata": {},
   "source": [
    "### Questions\n",
    "\n",
    "1) Before adding the specified code lines, does the program output change from run to run? Why or why not?\n",
    "\n",
    "2) After adding the specified code lines, does the program output cahnge from run to run? Why or why not?"
   ]
  },
  {
   "cell_type": "markdown",
   "id": "indirect-trailer",
   "metadata": {},
   "source": [
    "### Answers"
   ]
  },
  {
   "cell_type": "markdown",
   "id": "blond-introduction",
   "metadata": {},
   "source": [
    "1) ...\n",
    "\n",
    "2) ..."
   ]
  },
  {
   "cell_type": "markdown",
   "id": "aware-timothy",
   "metadata": {},
   "source": [
    "### Part B - Different Step Sizes\n",
    "\n",
    "We give you a Python script for plotting the `energy.dat` file in this part of the assignment called `plot.py`. You will run the Python script from bash kernel in jupyter notebook to get the plot images using command line arguments to control the plot output. **You Must have `matplotlib` installed in your conda enviroment (you should have it already from assignment1) for this script to work**. The arguments are defined below:\n",
    "\n",
    "```\n",
    "--step-size\n",
    "```\n",
    "For when you modify the step size in Part B (Default is 1, i.e. no modification)\n",
    "\n",
    "```\n",
    "--temp\n",
    "```\n",
    "For when you modify the temperature in Part C (Default is 300)\n",
    "\n",
    "```\n",
    "--outfile\n",
    "```\n",
    "If you want to change the name of the output file (Default is test.png, Note this saves in the Plots folder automatically)\n",
    "\n",
    "```\n",
    "--start-index\n",
    "```\n",
    "If you want to zoom into a portion of the plot (This is divided by a factor of 100, need to use with `--end-index`)\n",
    "\n",
    "```\n",
    "--end-index\n",
    "```\n",
    "If you want to zoom into a portion of the plot (This is divided by a factor of 100, need to use with `--start-index`)\n",
    "\n",
    "So if you want to plot your `energy.dat` file with a step size modification of 1/10 at a temperature of 280 K from steps 2000 to 5000 called `my_output.png`, you would run the following line of code.\n",
    "\n",
    "```\n",
    "python plot.py --step-size 0.1 --temp 280 --outfile my_output.png --start-index 20 --end-index 50\n",
    "```\n",
    "\n",
    "Remember to save each different plot as a unique identifiable name so you can display each one in your notebook.\n",
    "\n",
    "### Question\n",
    "\n",
    "Plot the energy as a function of the step number using the script. Note what the acceptance rate is.\n",
    "\n",
    "### Answer"
   ]
  },
  {
   "cell_type": "code",
   "execution_count": 1,
   "id": "fifth-kernel",
   "metadata": {},
   "outputs": [
    {
     "name": "stdout",
     "output_type": "stream",
     "text": [
      "Total: 29\n",
      "Step Up: 14\n",
      "Stay: 0\n",
      "Step Down: 15\n",
      "Acceptance Rate: 1.0\n"
     ]
    }
   ],
   "source": [
    "# Your bash code for plotting goes here ..."
   ]
  },
  {
   "cell_type": "code",
   "execution_count": null,
   "id": "stuck-detector",
   "metadata": {},
   "outputs": [],
   "source": [
    "# Run this to make a copy of the energy.dat file (using the copy (cp) command)\n",
    "cp energy.dat energy_partA.dat"
   ]
  },
  {
   "cell_type": "markdown",
   "id": "wrong-solution",
   "metadata": {},
   "source": [
    "**Display your plot in this cell ...**"
   ]
  },
  {
   "cell_type": "markdown",
   "id": "requested-static",
   "metadata": {},
   "source": [
    "Decrease the step size in the program (10 and 100 times smaller).\n",
    "\n",
    "You can do that by changing the following lines in the subroutine move within the program:\n",
    "\n",
    "**Old code**\n",
    "```\n",
    "x(it)=x(it) + (ran()-0.5)\n",
    "y(it)=y(it) + (ran()‐0.5)\n",
    "z(it)=z(it) + (ran()‐0.5)\n",
    "```\n",
    "\n",
    "**New code**\n",
    "```\n",
    "x(it)=x(it) + 0.1*(ran()-0.5)\n",
    "y(it)=y(it) + 0.1*(ran()-0.5)\n",
    "z(it)=z(it) + 0.1*(ran()-0.5)\n",
    "```\n",
    "\n",
    "### Question\n",
    "\n",
    "Compile and run the program again with an acceptance rate of 10 times smaller; observe the acceptance rate and energy changes.\n",
    "\n",
    "### Answer"
   ]
  },
  {
   "cell_type": "code",
   "execution_count": 1,
   "id": "finished-qatar",
   "metadata": {},
   "outputs": [],
   "source": [
    "# Add code here for recompiling the doccument ..."
   ]
  },
  {
   "cell_type": "code",
   "execution_count": null,
   "id": "adopted-blend",
   "metadata": {},
   "outputs": [],
   "source": [
    "# Add code here for running your program ..."
   ]
  },
  {
   "cell_type": "code",
   "execution_count": null,
   "id": "alleged-charger",
   "metadata": {},
   "outputs": [],
   "source": [
    "# Add code here for python plotting of the newly generated energy.dat file (it overwrites the old one) ..."
   ]
  },
  {
   "cell_type": "markdown",
   "id": "incident-comment",
   "metadata": {},
   "source": [
    "**Display your plot in this cell and give comments on how the acceptrance rate and energy changes ...**"
   ]
  },
  {
   "cell_type": "markdown",
   "id": "married-classroom",
   "metadata": {},
   "source": [
    "### Question \n",
    "\n",
    "Compile and run the program again with an acceptance rate of 100 times smaller; observe the acceptance rate and energy changes.\n",
    "\n",
    "### Answer"
   ]
  },
  {
   "cell_type": "code",
   "execution_count": null,
   "id": "invisible-attribute",
   "metadata": {},
   "outputs": [],
   "source": [
    "# Add code here for recompiling the doccument ..."
   ]
  },
  {
   "cell_type": "code",
   "execution_count": null,
   "id": "rubber-tactics",
   "metadata": {},
   "outputs": [],
   "source": [
    "# Add code here for running your program ..."
   ]
  },
  {
   "cell_type": "code",
   "execution_count": null,
   "id": "informational-sunday",
   "metadata": {},
   "outputs": [],
   "source": [
    "# Add code here for python plotting of the newly generated energy.dat file (it overwrites the old one) ..."
   ]
  },
  {
   "cell_type": "markdown",
   "id": "hollywood-gambling",
   "metadata": {},
   "source": [
    "**Display your plot in this cell and give comments on how the acceptrance rate and energy changes ...**"
   ]
  },
  {
   "cell_type": "markdown",
   "id": "synthetic-federation",
   "metadata": {},
   "source": [
    "### Part C - Different Temperatures\n",
    "\n",
    "### Questions\n",
    "\n",
    "Change the temperature a couple times (try both significanty lower and higher values). You will need to add your own cells below for compiling, running, and plotting. \n",
    "\n",
    "Answer the following questions in a Markdown cell as well\n",
    "\n",
    "1) How are the energy and the acceptance rate different?\n",
    "\n",
    "2) Explain observed differences in the plots that you have generated for this portion of the assignment\n",
    "\n",
    "### Answers"
   ]
  },
  {
   "cell_type": "code",
   "execution_count": null,
   "id": "assumed-thomas",
   "metadata": {},
   "outputs": [],
   "source": []
  },
  {
   "cell_type": "markdown",
   "id": "located-access",
   "metadata": {},
   "source": [
    "## Equation of State of a Lennard-Jones Fluid\n",
    "\n",
    "The goal of this lab is to investigate the equation of state of Lennard-Jones fluids by using a Monte Carlo program. This is the first realistic computer simulations we run in this class. Thus, we need to learn to recognize and respect important details: periodic boundary conditions, truncation of potential, tail corrections, and the equilibration phase of the simulation.\n",
    "\n",
    "The program mc-016-ru.f90 that you should download from the class web page is a complete Monte Carlo simulation code for a Lennard-Jones fluid. It is a slightly more developed version of the program mc-015.f90 we considered in Part 1. A sample input (input) is also provided on the website.\n",
    "\n",
    "### Step 1\n",
    "\n",
    "Take a look at the mc-016-ru.f90 code located in the `Fortran_Code/part2/` directory. You can view the file using the built in file explorer in VS Code (or any other editor that you would like). The mc-016-ru.f90 program has been written using reduced units and it calculates the energy and pressure of the system and their correction due to the tail cutoff. It has been compiled for you and is located in the `Fortran_Code/part2/` directory. We will need to change your working directory to here for the rest of the project.\n",
    "\n",
    "View you working directory with the `pwd` (present working directory) command."
   ]
  },
  {
   "cell_type": "code",
   "execution_count": 2,
   "id": "postal-catalog",
   "metadata": {},
   "outputs": [
    {
     "name": "stdout",
     "output_type": "stream",
     "text": [
      "/home/mmuhober/CHM_579_Assignment_2\n"
     ]
    }
   ],
   "source": [
    "pwd"
   ]
  },
  {
   "cell_type": "markdown",
   "id": "about-mozambique",
   "metadata": {},
   "source": [
    "Now we need to change our working directory to `Fortran_Code/part2/` using the `cd` (change directory) command.\n",
    "\n",
    "**Important: If you exit out of this notebook you will likely need to run the below code block again in order to get into the correct directoy**"
   ]
  },
  {
   "cell_type": "code",
   "execution_count": 1,
   "id": "selective-pride",
   "metadata": {},
   "outputs": [
    {
     "name": "stdout",
     "output_type": "stream",
     "text": [
      "/home/mmuhober/CHM_579_Assignment_2/Fortran_Code/part2\n"
     ]
    }
   ],
   "source": [
    "cd Fortran_Code/part2/\n",
    "pwd"
   ]
  },
  {
   "cell_type": "markdown",
   "id": "portuguese-payment",
   "metadata": {},
   "source": [
    "And we can run the program with the following command"
   ]
  },
  {
   "cell_type": "code",
   "execution_count": 5,
   "id": "eight-arbitration",
   "metadata": {},
   "outputs": [
    {
     "name": "stdout",
     "output_type": "stream",
     "text": [
      "\n",
      "  A Monte Carlo program for Lennard-Jones particles\n",
      "  -------------------------------------------------\n",
      "  Lennard-Jones parameters:\n",
      "    eps=    1.0000000000000000     \n",
      "    sig=    1.0000000000000000     \n",
      "   rcut=    2.5000000000000000     \n",
      "\n",
      "  Simulation box length:    13.572089137863951     \n",
      "  Volume               :    2500.0000000000000     \n",
      "  Number density       :   0.40000000000000002     \n",
      "  Density              :   0.40000000000000002     \n",
      "  Temperature          :    2.0000000000000000     \n",
      "\n",
      " istart = 0 -> Random initial configuration\n",
      "\n",
      "  maxd           :   0.50000000000000000     \n",
      "  # eq steps     :            0\n",
      "  # MC steps     :       100000\n",
      "  Sampling freq  :          100\n",
      "  Adjusting freq :          500\n",
      "\n",
      "\n",
      "  Initial Potential Energy:    8803607918485.2715     \n",
      "\n",
      "  Final energy (updated):        -2328.1299559775834     \n",
      "  Final energy (recalculated):   -2328.0903942950199     \n",
      "\n",
      "  Energy correction:   -214.17324081781837     \n",
      "  Pressure correction:  -0.17157285190131991     \n",
      "\n"
     ]
    }
   ],
   "source": [
    "./mc-016-ru.out | tee T2.0_d0.4_mc-run.log"
   ]
  },
  {
   "cell_type": "markdown",
   "id": "dietary-danger",
   "metadata": {},
   "source": [
    "### Step 2\n",
    "\n",
    "Note that since the program has an input file, you do not need to recompile it each time you change the initial conditions. After modifying the input file, you just have to perform the run step. The program will take the information you provided in the input file and use it to setup the calculation. Now you will see how it works.\n",
    "\n",
    "**IMPORTANT:** Make sure that the input files you use do not have any extensions such as `.txt`, `.doc`, etc.\n",
    "\n",
    "Review the input file in the VS Code editor. You will see a list of numbers. The input file (the list of numbers) has the following structure:\n",
    "\n",
    "```\n",
    "rcut\n",
    "np\n",
    "density\n",
    "temp\n",
    "istart\n",
    "maxd\n",
    "mceq mcsteps\n",
    "nsample\n",
    "nadjust\n",
    "```\n",
    "\n",
    "With the following definitions:\n",
    "\n",
    "```\n",
    "rcut\n",
    "```\n",
    "Cut-off radius.\n",
    "```\n",
    "np  \n",
    "```\n",
    "Number of particles.\n",
    "```\n",
    "density\n",
    "```\n",
    "Density of the system. The number of particles and density will determine volume and dimensions of the (cubic) box.\n",
    "```\n",
    "temp\n",
    "```\n",
    "Temperature.\n",
    "```\n",
    "istart\n",
    "```\n",
    "0 or 1.\n",
    "```\n",
    "maxd\n",
    "```\n",
    "Maximum displacement (Monte Carlo step size).\n",
    "```\n",
    "mceq mcsteps\n",
    "```\n",
    "mceq is the number of steps to equilibrate the system. mcsteps are the number of steps in the production run.\n",
    "```\n",
    "nsample\n",
    "```\n",
    "Frequency of sampling of the energy and pressure.\n",
    "```\n",
    "nadjust   \n",
    "```\n",
    "Frequency to adjust the maximum displacement maxd.\n",
    "\n",
    "**IMPORTANT:** The variable `istart` may have the value 0 to start a simulation with the particles located at random positions, or 1 to start a simulation reading the initial conformation from a `conf.gro` file."
   ]
  },
  {
   "cell_type": "markdown",
   "id": "wooden-adjustment",
   "metadata": {},
   "source": [
    "### Step 3\n",
    "\n",
    "When the program is executed it generates four files: `energy.dat`, `pressure.dat`, `confout.gro`, and `output`.\n",
    "\n",
    "The first two are the potential energy and pressure of the system as a function of the Monte Carlo step. The file `confout.gro` contains the x, y, z coordinates of the particles in the final configuration. The output file has the format of the input file, and includes the last value for the `maxd` variable (optimized maximum displacement).\n",
    "\n",
    "Take a look at the output in VS Code editor or use the `cat` command below. You can use the `cat` command anywhere in the notebook to display a file inline."
   ]
  },
  {
   "cell_type": "code",
   "execution_count": 6,
   "id": "international-jefferson",
   "metadata": {},
   "outputs": [
    {
     "name": "stdout",
     "output_type": "stream",
     "text": [
      "   2.5000000000000000     \n",
      "        1000\n",
      "  0.40000000000000002     \n",
      "   2.0000000000000000     \n",
      "           0\n",
      "  0.58092576827307463     \n",
      "           0      100000\n",
      "         100\n",
      "         500\n"
     ]
    }
   ],
   "source": [
    "cat output"
   ]
  },
  {
   "cell_type": "markdown",
   "id": "olive-billion",
   "metadata": {},
   "source": [
    "Lets make a new directory for each type of files that we will be creating in this assignment so that we can keep them organized. We can make a new directory with the `mkdir` (make directory) command."
   ]
  },
  {
   "cell_type": "code",
   "execution_count": 7,
   "id": "initial-skating",
   "metadata": {},
   "outputs": [],
   "source": [
    "mkdir Energy_Files\n",
    "mkdir Pressure_Files\n",
    "mkdir Config_Files\n",
    "mkdir Output_Files"
   ]
  },
  {
   "cell_type": "markdown",
   "id": "rational-montgomery",
   "metadata": {},
   "source": [
    "### Step 4\n",
    "\n",
    "To restart a simulation from the final conformation of a previous run you need to copy the file confout.gro to conf.gro. Also, it is convenient to copy output to input. You may use the cp command. In addition, you must change the istart value from 0 to 1 in the input, so that the simulation starts with the particles located where they were at the end of the previous run (conf.gro file) and not at random positions. Try vi or nano to edit the input file.\n",
    "\n",
    "**IMPORTANT:** The program will rewrite energy.dat, pressure.dat, confout.gro, and output when it is started again. Make sure to copy these files to a different directory or rename them. You may need them later. You can use the cp command for that.\n",
    "\n",
    "For example, if you want to save the energy file for a simulation that run at a temperature of 2.0 and a density of 0.4 and move it to the corresponding folder your would run the following commands:"
   ]
  },
  {
   "cell_type": "code",
   "execution_count": 8,
   "id": "frozen-plaintiff",
   "metadata": {},
   "outputs": [],
   "source": [
    "cp energy.dat T2.0_d0.4_energy.dat\n",
    "mv T2.0_d0.4_energy.dat Energy_Files"
   ]
  },
  {
   "cell_type": "markdown",
   "id": "collected-kenya",
   "metadata": {},
   "source": [
    "**IMPORTANT:** Keep in mind that there are certain characters that you should not (or cannot) use in file names, including the blank space.\n",
    "\n",
    "If you want to rename a file instead of making a copy, you can use the move command, for example:`"
   ]
  },
  {
   "cell_type": "code",
   "execution_count": 9,
   "id": "built-beaver",
   "metadata": {},
   "outputs": [],
   "source": [
    "mv pressure.dat T2.0_d0.4_pressure.log\n",
    "cp T2.0_d0.4_pressure.log pressure.dat\n",
    "mv T2.0_d0.4_pressure.log Pressure_Files"
   ]
  },
  {
   "cell_type": "markdown",
   "id": "generous-statistics",
   "metadata": {},
   "source": [
    "**IMPORTANT:** Both the `cp` and `mv` commands will overwrite files without asking for confirmation, so be careful when picking the new file name.\n",
    "\n",
    "At this point you should know everything you need to manipulate and organize your files. You can organize them however you would like, but you have made the above folders for an organization system if you would like to use those as well."
   ]
  },
  {
   "cell_type": "markdown",
   "id": "aware-rapid",
   "metadata": {},
   "source": [
    "### Step 5\n",
    "\n",
    "Later in this lab, you may calculate the average energy and pressure and save only these values instead of the whole files. The program avg.f90 is included for that purpose. This program will read `energy.dat` and `pressure.dat`, compute and print the averages. However, you must have an equilibrated system to do this averaging correctly (see discussion below). Review the code, it will help you to understand the following paragraphs.\n",
    "\n",
    "Compile the program avg.f90 using the below code:"
   ]
  },
  {
   "cell_type": "code",
   "execution_count": 4,
   "id": "decreased-alabama",
   "metadata": {},
   "outputs": [],
   "source": [
    "gfortran avg.f90 -o avg.out"
   ]
  },
  {
   "cell_type": "markdown",
   "id": "bound-memory",
   "metadata": {},
   "source": [
    "You can run the program with the below code for averaging a certian number of lines of the file"
   ]
  },
  {
   "cell_type": "code",
   "execution_count": 13,
   "id": "favorite-coach",
   "metadata": {},
   "outputs": [
    {
     "name": "stdout",
     "output_type": "stream",
     "text": [
      " <P>=   7045407883.1790686     \n",
      " <E>=   4403378224730.9268     \n"
     ]
    }
   ],
   "source": [
    "./avg.out 4"
   ]
  },
  {
   "cell_type": "markdown",
   "id": "radio-seeking",
   "metadata": {},
   "source": [
    "It may be convenient to write the averages that the program prints on the screen to a log file, which can be reviewed again at any other time.\n",
    "\n",
    "**IMPORTANT:** When you run the program streaming to a log file it still needs the user to provide the number of lines in the energy.dat and pressure.dat files, even though nothing but a blank space with the cursor appears on the screen. After introducing the command, write the number and press Enter.\n",
    "\n",
    "```\n",
    "./avg.out 4 | tee T2.0_d0.4_average.log\n",
    "```\n",
    "\n",
    "**IMPORTANT:** In addition to the averages, you will need the energy and pressure corrections that are printed in the end of each log file. They look like this:\n",
    "\n",
    "```\n",
    "Energy correction:  -214.173240817818\n",
    "Pressure correction:  -0.171572851901320\n",
    "```"
   ]
  },
  {
   "cell_type": "markdown",
   "id": "outer-amateur",
   "metadata": {},
   "source": [
    "### Questions\n",
    "\n",
    "If you did not run the `mc-016-ru.f90` program in Step 1, run it now. Remember to stream the output to a log file.\n",
    "\n",
    "Make a copy of the plotting software `plot.py` using the `cp` command and modify it to plot Energy vs. Monte Carlo step and also Pressure vs. Monte Carlo step. It should be very similar to the plotting file provided but you will have to make some changes. If you would rather use Excel or another plotting software, that is fine but we reccomend that you try to do it in Python at first as it will be used for plotting later in the course.\n",
    "\n",
    "Note that for plotting if you are using matplotlib and writing in a Python file outside of a Jupyter notebook you will need to add the following line of code after importing matplotlib:\n",
    "\n",
    "```\n",
    "matplotlib.use(\"Agg\")\n",
    "```\n",
    "\n",
    "**Important:** you don't have to run all commands here, you can press `ctrl`+` (or the mac equivilent) to access the terminal in VS Code\n",
    "\n",
    "1) Describe in detail what you observe in each plot.\n",
    "\n",
    "2) What is the step number when the Energy and Pressure become approximately constant (system at equilibrium)? Explain.\n",
    "\n",
    "Save the `confout.gro`, and output files for the following questions. Create a backup each of the generated files in the folders that were given to you (or your own orginizational system if you have one).\n",
    "\n",
    "### Answers"
   ]
  },
  {
   "cell_type": "code",
   "execution_count": null,
   "id": "agreed-developer",
   "metadata": {},
   "outputs": [],
   "source": []
  },
  {
   "cell_type": "markdown",
   "id": "opposed-diamond",
   "metadata": {},
   "source": [
    "### Questions\n",
    "\n",
    "Restart the simulation again, but now increase temperature to 4.0 and density to 0.8 in the input file.\n",
    "\n",
    "3) Again plot the Energy and Pressure vs. the Monte Carlo step. What is different now? Compare and explain.\n",
    "\n",
    "4) How long does it take now to equilibrate the system?\n",
    "\n",
    "5) Make conclusions about how long your equilibration should be, what should be the value of the variable mceq. Explain and give some margin of safety to this number. It is certainly much better to over-equilibrate the system than under-equilibrate it!\n",
    "\n",
    "### Answers"
   ]
  },
  {
   "cell_type": "code",
   "execution_count": null,
   "id": "magnetic-teaching",
   "metadata": {},
   "outputs": [],
   "source": []
  },
  {
   "cell_type": "markdown",
   "id": "powered-optics",
   "metadata": {},
   "source": [
    "### Question \n",
    "\n",
    "Set up the Monte Carlo program to restart from the final position of question (A) 2., as explained in Step 4.\n",
    "\n",
    "We want to generate a random distribution of energies. In the input file, make sure you set the value of istart to 1, reduce the mcsteps value from 100000 to 10000, set nsample to 1, maxd to 2.5, and nadjust to 50000.\n",
    "\n",
    "Now run the calculation, and plot Energy vs. Monte Carlo step.\n",
    "\n",
    "Make a list of every step in which the energy increased and find the maximum of this list. Find your own way to do this using Python code.\n",
    "\n",
    "6) What is the probability that such a step would be accepted? Is this reasonable? Explain.\n",
    "\n",
    "### Answers"
   ]
  },
  {
   "cell_type": "code",
   "execution_count": null,
   "id": "difficult-manhattan",
   "metadata": {},
   "outputs": [],
   "source": []
  },
  {
   "cell_type": "markdown",
   "id": "instructional-moderator",
   "metadata": {},
   "source": [
    "### Questions\n",
    "\n",
    "In this step you are interested in average values of energy and pressure at different initial conditions. However, I cannot emphasize enough , make sure that your system is well equilibrated before you do a production run. In other words, make sure mceq is large enough.\n",
    "\n",
    "7) Calculate and plot several isotherms (Pressure vs. Density) for the temperature interval 0.7 ≤ T ≤ 6.0 and the density interval 0.1 ≤ ρ ≤ 1.2. Each isotherm should consist of at least of 6 points. Include the tail correction for the pressure. You probably want to consider the temperatures both above and below the critical temperature, T = 1.31. For example, you could run using 0.70, 1.15, 2.00, 4.00, and 6.00 for temperature; and 0.1, 0.3, 0.5, 0.7, 0.8, and 0.9 for density.\n",
    "\n",
    "8) Compare your results with the tabulated values by J. K. Johnson, et al. (Mol. Phys. v.78, p591, 1993), particularly, with Table 2 in the paper (paper is given in the assignment zip)\n",
    "\n",
    "9) Discuss observed differences or similarities, compare conditions of these simulations and estimate uncertainty of your numerical results.\n",
    "\n",
    "10) In the report, make sure you carefully explain what you are simulating with this Monte Carlo program. Hint: check part 1 of this assignment.\n",
    "\n",
    "### Answers"
   ]
  },
  {
   "cell_type": "code",
   "execution_count": null,
   "id": "humanitarian-december",
   "metadata": {},
   "outputs": [],
   "source": []
  }
 ],
 "metadata": {
  "kernelspec": {
   "display_name": "Bash",
   "language": "bash",
   "name": "bash"
  },
  "language_info": {
   "codemirror_mode": "shell",
   "file_extension": ".sh",
   "mimetype": "text/x-sh",
   "name": "bash"
  }
 },
 "nbformat": 4,
 "nbformat_minor": 5
}
